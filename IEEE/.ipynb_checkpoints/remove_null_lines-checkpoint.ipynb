{
 "cells": [
  {
   "cell_type": "code",
   "execution_count": 41,
   "metadata": {
    "scrolled": true
   },
   "outputs": [
    {
     "name": "stdout",
     "output_type": "stream",
     "text": [
      "1952.txt\n",
      "found 0 nulls.\n",
      "1953.txt\n",
      "found 0 nulls.\n",
      "1954.txt\n",
      "found 0 nulls.\n",
      "1955.txt\n",
      "found 0 nulls.\n"
     ]
    }
   ],
   "source": [
    "for y in range(1952, 1952):\n",
    "    fn = str(y)+\".txt\"\n",
    "    print(fn)\n",
    "    lines = []\n",
    "    nullcount = 0\n",
    "    with open(fn, \"r\", encoding=\"utf8\") as file:\n",
    "        lines = file.readlines()\n",
    "        \n",
    "    for i in range(len(lines)):\n",
    "        if lines[i] == 'null\\n':\n",
    "            nullcount += 1\n",
    "            lines[i] = \"\"\n",
    "\n",
    "    print(\"found \" + str(nullcount) + \" nulls.\")\n",
    "    \n",
    "    with open(fn, \"w\", encoding=\"utf8\") as file:\n",
    "        file.writelines(lines)"
   ]
  }
 ],
 "metadata": {
  "kernelspec": {
   "display_name": "Python 3",
   "language": "python",
   "name": "python3"
  },
  "language_info": {
   "codemirror_mode": {
    "name": "ipython",
    "version": 3
   },
   "file_extension": ".py",
   "mimetype": "text/x-python",
   "name": "python",
   "nbconvert_exporter": "python",
   "pygments_lexer": "ipython3",
   "version": "3.7.4"
  }
 },
 "nbformat": 4,
 "nbformat_minor": 2
}
